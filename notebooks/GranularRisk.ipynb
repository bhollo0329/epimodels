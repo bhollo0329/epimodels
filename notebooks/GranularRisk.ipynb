{
 "cells": [
  {
   "cell_type": "code",
   "execution_count": 1,
   "metadata": {},
   "outputs": [
    {
     "name": "stderr",
     "output_type": "stream",
     "text": [
      "/Users/kpierce/epimodels/epi-venv/lib/python3.9/site-packages/geopandas/_compat.py:111: UserWarning: The Shapely GEOS version (3.9.1-CAPI-1.14.2) is incompatible with the GEOS version PyGEOS was compiled with (3.10.1-CAPI-1.16.0). Conversions between both will be slow.\n",
      "  warnings.warn(\n"
     ]
    }
   ],
   "source": [
    "import xsimlab as xs\n",
    "import xarray as xr\n",
    "from episimlab.models import ExampleSIR, EpiModel\n",
    "from episimlab.models.example_sir import SetupPhi\n",
    "from episimlab.models.partition_v1 import *\n",
    "from episimlab.compt_model import ComptModel\n",
    "from episimlab.foi import BaseFOI\n",
    "from episimlab.utils import get_var_dims, group_dict_by_var, visualize_compt_graph, coerce_to_da, fix_coord_dtypes, IntPerDay\n",
    "from episimlab.setup.sto import SetupStochasticFromToggle\n",
    "from episimlab.setup.seed import SeedGenerator\n",
    "import networkx as nx\n",
    "import pandas as pd\n",
    "import numpy as np\n",
    "import math\n",
    "import datetime\n",
    "import geopandas as gpd"
   ]
  },
  {
   "cell_type": "markdown",
   "metadata": {},
   "source": [
    "# ZCTA-level high risk proportion for the state of Texas\n",
    "\n",
    "## Goal: parameterize Austin granular model with ZCTA level data on risk percentage.\n",
    "\n",
    "### Risk data\n",
    "\n",
    "We have CDC 500 Cities places data at the Census Block Group level that could be used to make risk proportion calculations. We also have pre-calculated risk percentages courtesy of Remy Pasco, which is what we'll use moving forward.\n",
    "\n",
    "The raw data that we won't use:"
   ]
  },
  {
   "cell_type": "code",
   "execution_count": 2,
   "metadata": {},
   "outputs": [],
   "source": [
    "places = pd.read_csv(\n",
    "    '../CDC_PLACES_DATA/500_Cities__Local_Data_for_Better_Health__2019_release.csv',\n",
    "    dtype={'TractFIPS': str, 'CityFIPS': str}\n",
    ")"
   ]
  },
  {
   "cell_type": "code",
   "execution_count": 3,
   "metadata": {},
   "outputs": [
    {
     "data": {
      "text/plain": [
       "Census Tract    782047\n",
       "City             28000\n",
       "US                  56\n",
       "Name: GeographicLevel, dtype: int64"
      ]
     },
     "execution_count": 3,
     "metadata": {},
     "output_type": "execute_result"
    }
   ],
   "source": [
    "places['GeographicLevel'].value_counts()"
   ]
  },
  {
   "cell_type": "markdown",
   "metadata": {},
   "source": [
    "Remy's risk data, which we will use:"
   ]
  },
  {
   "cell_type": "code",
   "execution_count": 4,
   "metadata": {},
   "outputs": [],
   "source": [
    "zcta_age_risk = pd.read_csv(\n",
    "    '../Remy_ZCTA_high_risk/COVID High risk population per age group per zip code.csv',\n",
    "    dtype={'ZCTA5': str}\n",
    ")"
   ]
  },
  {
   "cell_type": "code",
   "execution_count": 5,
   "metadata": {},
   "outputs": [
    {
     "data": {
      "text/html": [
       "<div>\n",
       "<style scoped>\n",
       "    .dataframe tbody tr th:only-of-type {\n",
       "        vertical-align: middle;\n",
       "    }\n",
       "\n",
       "    .dataframe tbody tr th {\n",
       "        vertical-align: top;\n",
       "    }\n",
       "\n",
       "    .dataframe thead th {\n",
       "        text-align: right;\n",
       "    }\n",
       "</style>\n",
       "<table border=\"1\" class=\"dataframe\">\n",
       "  <thead>\n",
       "    <tr style=\"text-align: right;\">\n",
       "      <th></th>\n",
       "      <th>ZCTA5</th>\n",
       "      <th>0_0.5</th>\n",
       "      <th>0.5_4</th>\n",
       "      <th>5_9</th>\n",
       "      <th>10_14</th>\n",
       "      <th>15_19</th>\n",
       "      <th>20_24</th>\n",
       "      <th>25_29</th>\n",
       "      <th>30_34</th>\n",
       "      <th>35_39</th>\n",
       "      <th>40_44</th>\n",
       "      <th>45_49</th>\n",
       "      <th>50_54</th>\n",
       "      <th>55_59</th>\n",
       "      <th>60_64</th>\n",
       "      <th>65_69</th>\n",
       "      <th>70_74</th>\n",
       "      <th>75+</th>\n",
       "    </tr>\n",
       "  </thead>\n",
       "  <tbody>\n",
       "    <tr>\n",
       "      <th>0</th>\n",
       "      <td>1086</td>\n",
       "      <td>0.0</td>\n",
       "      <td>0.063143</td>\n",
       "      <td>0.092746</td>\n",
       "      <td>0.104584</td>\n",
       "      <td>0.117104</td>\n",
       "      <td>0.135435</td>\n",
       "      <td>0.147714</td>\n",
       "      <td>0.147180</td>\n",
       "      <td>0.131456</td>\n",
       "      <td>0.116898</td>\n",
       "      <td>0.153668</td>\n",
       "      <td>0.153505</td>\n",
       "      <td>0.153505</td>\n",
       "      <td>0.153505</td>\n",
       "      <td>0.198322</td>\n",
       "      <td>0.198322</td>\n",
       "      <td>0.198322</td>\n",
       "    </tr>\n",
       "    <tr>\n",
       "      <th>1</th>\n",
       "      <td>4469</td>\n",
       "      <td>0.0</td>\n",
       "      <td>0.090581</td>\n",
       "      <td>0.133047</td>\n",
       "      <td>0.149925</td>\n",
       "      <td>0.163973</td>\n",
       "      <td>0.184093</td>\n",
       "      <td>0.194950</td>\n",
       "      <td>0.195366</td>\n",
       "      <td>0.179244</td>\n",
       "      <td>0.168342</td>\n",
       "      <td>0.227767</td>\n",
       "      <td>0.227767</td>\n",
       "      <td>0.227767</td>\n",
       "      <td>0.227767</td>\n",
       "      <td>0.294302</td>\n",
       "      <td>0.294302</td>\n",
       "      <td>0.294302</td>\n",
       "    </tr>\n",
       "    <tr>\n",
       "      <th>2</th>\n",
       "      <td>6269</td>\n",
       "      <td>0.0</td>\n",
       "      <td>0.082688</td>\n",
       "      <td>0.121454</td>\n",
       "      <td>0.136861</td>\n",
       "      <td>0.148272</td>\n",
       "      <td>0.157956</td>\n",
       "      <td>0.183474</td>\n",
       "      <td>0.196116</td>\n",
       "      <td>0.175064</td>\n",
       "      <td>0.158072</td>\n",
       "      <td>0.217177</td>\n",
       "      <td>0.216874</td>\n",
       "      <td>0.216874</td>\n",
       "      <td>0.216874</td>\n",
       "      <td>0.283603</td>\n",
       "      <td>0.283603</td>\n",
       "      <td>0.283603</td>\n",
       "    </tr>\n",
       "    <tr>\n",
       "      <th>3</th>\n",
       "      <td>8240</td>\n",
       "      <td>0.0</td>\n",
       "      <td>0.058633</td>\n",
       "      <td>0.086122</td>\n",
       "      <td>0.097047</td>\n",
       "      <td>0.108229</td>\n",
       "      <td>0.127235</td>\n",
       "      <td>0.143871</td>\n",
       "      <td>0.145469</td>\n",
       "      <td>0.125942</td>\n",
       "      <td>0.110078</td>\n",
       "      <td>0.143980</td>\n",
       "      <td>0.143747</td>\n",
       "      <td>0.143747</td>\n",
       "      <td>0.143747</td>\n",
       "      <td>0.186270</td>\n",
       "      <td>0.186270</td>\n",
       "      <td>0.186270</td>\n",
       "    </tr>\n",
       "    <tr>\n",
       "      <th>4</th>\n",
       "      <td>11549</td>\n",
       "      <td>0.0</td>\n",
       "      <td>0.055626</td>\n",
       "      <td>0.081705</td>\n",
       "      <td>0.092094</td>\n",
       "      <td>0.100741</td>\n",
       "      <td>0.112221</td>\n",
       "      <td>0.130361</td>\n",
       "      <td>0.155854</td>\n",
       "      <td>0.135504</td>\n",
       "      <td>0.108977</td>\n",
       "      <td>0.142456</td>\n",
       "      <td>0.141966</td>\n",
       "      <td>0.141889</td>\n",
       "      <td>0.141889</td>\n",
       "      <td>0.186404</td>\n",
       "      <td>0.186404</td>\n",
       "      <td>0.186404</td>\n",
       "    </tr>\n",
       "  </tbody>\n",
       "</table>\n",
       "</div>"
      ],
      "text/plain": [
       "   ZCTA5  0_0.5     0.5_4       5_9     10_14     15_19     20_24     25_29  \\\n",
       "0   1086    0.0  0.063143  0.092746  0.104584  0.117104  0.135435  0.147714   \n",
       "1   4469    0.0  0.090581  0.133047  0.149925  0.163973  0.184093  0.194950   \n",
       "2   6269    0.0  0.082688  0.121454  0.136861  0.148272  0.157956  0.183474   \n",
       "3   8240    0.0  0.058633  0.086122  0.097047  0.108229  0.127235  0.143871   \n",
       "4  11549    0.0  0.055626  0.081705  0.092094  0.100741  0.112221  0.130361   \n",
       "\n",
       "      30_34     35_39     40_44     45_49     50_54     55_59     60_64  \\\n",
       "0  0.147180  0.131456  0.116898  0.153668  0.153505  0.153505  0.153505   \n",
       "1  0.195366  0.179244  0.168342  0.227767  0.227767  0.227767  0.227767   \n",
       "2  0.196116  0.175064  0.158072  0.217177  0.216874  0.216874  0.216874   \n",
       "3  0.145469  0.125942  0.110078  0.143980  0.143747  0.143747  0.143747   \n",
       "4  0.155854  0.135504  0.108977  0.142456  0.141966  0.141889  0.141889   \n",
       "\n",
       "      65_69     70_74       75+  \n",
       "0  0.198322  0.198322  0.198322  \n",
       "1  0.294302  0.294302  0.294302  \n",
       "2  0.283603  0.283603  0.283603  \n",
       "3  0.186270  0.186270  0.186270  \n",
       "4  0.186404  0.186404  0.186404  "
      ]
     },
     "execution_count": 5,
     "metadata": {},
     "output_type": "execute_result"
    }
   ],
   "source": [
    "zcta_age_risk.head()"
   ]
  },
  {
   "cell_type": "markdown",
   "metadata": {},
   "source": [
    "Note that there is 0% risk percentage in the 0-0.5y age bin."
   ]
  },
  {
   "cell_type": "code",
   "execution_count": 6,
   "metadata": {},
   "outputs": [
    {
     "data": {
      "text/plain": [
       "0.0"
      ]
     },
     "execution_count": 6,
     "metadata": {},
     "output_type": "execute_result"
    }
   ],
   "source": [
    "max(zcta_age_risk['0_0.5'])"
   ]
  },
  {
   "cell_type": "code",
   "execution_count": 7,
   "metadata": {},
   "outputs": [],
   "source": [
    "zcta_age_risk_long = pd.melt(zcta_age_risk, id_vars='ZCTA5', var_name='age_group', value_name='prop_high_risk')"
   ]
  },
  {
   "cell_type": "code",
   "execution_count": 8,
   "metadata": {},
   "outputs": [
    {
     "data": {
      "text/html": [
       "<div>\n",
       "<style scoped>\n",
       "    .dataframe tbody tr th:only-of-type {\n",
       "        vertical-align: middle;\n",
       "    }\n",
       "\n",
       "    .dataframe tbody tr th {\n",
       "        vertical-align: top;\n",
       "    }\n",
       "\n",
       "    .dataframe thead th {\n",
       "        text-align: right;\n",
       "    }\n",
       "</style>\n",
       "<table border=\"1\" class=\"dataframe\">\n",
       "  <thead>\n",
       "    <tr style=\"text-align: right;\">\n",
       "      <th></th>\n",
       "      <th>ZCTA5</th>\n",
       "      <th>age_group</th>\n",
       "      <th>prop_high_risk</th>\n",
       "    </tr>\n",
       "  </thead>\n",
       "  <tbody>\n",
       "    <tr>\n",
       "      <th>0</th>\n",
       "      <td>1086</td>\n",
       "      <td>0_0.5</td>\n",
       "      <td>0.0</td>\n",
       "    </tr>\n",
       "    <tr>\n",
       "      <th>1</th>\n",
       "      <td>4469</td>\n",
       "      <td>0_0.5</td>\n",
       "      <td>0.0</td>\n",
       "    </tr>\n",
       "    <tr>\n",
       "      <th>2</th>\n",
       "      <td>6269</td>\n",
       "      <td>0_0.5</td>\n",
       "      <td>0.0</td>\n",
       "    </tr>\n",
       "    <tr>\n",
       "      <th>3</th>\n",
       "      <td>8240</td>\n",
       "      <td>0_0.5</td>\n",
       "      <td>0.0</td>\n",
       "    </tr>\n",
       "    <tr>\n",
       "      <th>4</th>\n",
       "      <td>11549</td>\n",
       "      <td>0_0.5</td>\n",
       "      <td>0.0</td>\n",
       "    </tr>\n",
       "  </tbody>\n",
       "</table>\n",
       "</div>"
      ],
      "text/plain": [
       "   ZCTA5 age_group  prop_high_risk\n",
       "0   1086     0_0.5             0.0\n",
       "1   4469     0_0.5             0.0\n",
       "2   6269     0_0.5             0.0\n",
       "3   8240     0_0.5             0.0\n",
       "4  11549     0_0.5             0.0"
      ]
     },
     "execution_count": 8,
     "metadata": {},
     "output_type": "execute_result"
    }
   ],
   "source": [
    "zcta_age_risk_long.head()"
   ]
  },
  {
   "cell_type": "code",
   "execution_count": 9,
   "metadata": {},
   "outputs": [],
   "source": [
    "def split_age_group(long_df, split_grp, newgrp1, newgrp2):\n",
    "    \n",
    "    # only works if the age column is 'age_group'\n",
    "    assert 'age_group' in long_df.columns\n",
    "\n",
    "    # separate age groups\n",
    "    split_grp_df = long_df[(long_df['age_group'] == split_grp)]\n",
    "    other_groups = long_df[(long_df['age_group'] != split_grp) ]\n",
    "    \n",
    "    # copy dataframes\n",
    "    group_1 = deepcopy(split_grp_df)\n",
    "    group_2 = deepcopy(split_grp_df)\n",
    "\n",
    "    # reassign age group 1\n",
    "    group_1['age_group'] = [newgrp1 if i == split_grp else i for i in group_1['age_group']]\n",
    "    \n",
    "    # reassign age group 2\n",
    "    group_2['age_group'] = [newgrp2 if i == split_grp else i for i in group_2['age_group']]\n",
    "    \n",
    "    # join everything\n",
    "    regrouped = pd.concat([group_1, group_2, other_groups])\n",
    "    \n",
    "    return regrouped"
   ]
  },
  {
   "cell_type": "code",
   "execution_count": 10,
   "metadata": {},
   "outputs": [],
   "source": [
    "from copy import deepcopy"
   ]
  },
  {
   "cell_type": "code",
   "execution_count": 11,
   "metadata": {},
   "outputs": [],
   "source": [
    "zcta_risk_split = split_age_group(zcta_age_risk_long, split_grp='10_14', newgrp1='10', newgrp2='11_14')\n",
    "zcta_risk_split = split_age_group(zcta_risk_split, split_grp='11_14', newgrp1='11_13', newgrp2='14')\n",
    "zcta_risk_split = split_age_group(zcta_risk_split, split_grp='15_19', newgrp1='15_17', newgrp2='18_19')"
   ]
  },
  {
   "cell_type": "code",
   "execution_count": 12,
   "metadata": {},
   "outputs": [
    {
     "data": {
      "text/plain": [
       "15_17    32409\n",
       "18_19    32409\n",
       "70_74    32409\n",
       "65_69    32409\n",
       "60_64    32409\n",
       "55_59    32409\n",
       "50_54    32409\n",
       "45_49    32409\n",
       "40_44    32409\n",
       "35_39    32409\n",
       "30_34    32409\n",
       "25_29    32409\n",
       "20_24    32409\n",
       "5_9      32409\n",
       "0.5_4    32409\n",
       "0_0.5    32409\n",
       "10       32409\n",
       "14       32409\n",
       "11_13    32409\n",
       "75+      32409\n",
       "Name: age_group, dtype: int64"
      ]
     },
     "execution_count": 12,
     "metadata": {},
     "output_type": "execute_result"
    }
   ],
   "source": [
    "zcta_risk_split['age_group'].value_counts()"
   ]
  },
  {
   "cell_type": "code",
   "execution_count": 13,
   "metadata": {},
   "outputs": [],
   "source": [
    "revised_groups = {\n",
    "    '0_0.5': '00-04',\n",
    "    '0.5_4': '00-04',\n",
    "    '5_9': '05-10',\n",
    "    '10': '05-10',\n",
    "    '11_13': '11-13',\n",
    "    '14': '14-17',\n",
    "    '15_17': '14-17',\n",
    "    '18_19': '18-49',\n",
    "    '20_24': '18-49',\n",
    "    '25_29': '18-49',\n",
    "    '30_34': '18-49',\n",
    "    '35_39': '18-49',\n",
    "    '40_44': '18-49',\n",
    "    '45_49': '18-49',\n",
    "    '50_54': '50-64',\n",
    "    '55_59': '50-64',\n",
    "    '60_64': '50-64',\n",
    "    '65_69': '65+',\n",
    "    '70_74': '65+',\n",
    "    '75+': '65+'\n",
    "}"
   ]
  },
  {
   "cell_type": "code",
   "execution_count": 14,
   "metadata": {},
   "outputs": [],
   "source": [
    "zcta_risk_split['revised_age_group'] = [revised_groups[i] for i in zcta_risk_split['age_group']]"
   ]
  },
  {
   "cell_type": "code",
   "execution_count": 15,
   "metadata": {},
   "outputs": [
    {
     "data": {
      "text/html": [
       "<div>\n",
       "<style scoped>\n",
       "    .dataframe tbody tr th:only-of-type {\n",
       "        vertical-align: middle;\n",
       "    }\n",
       "\n",
       "    .dataframe tbody tr th {\n",
       "        vertical-align: top;\n",
       "    }\n",
       "\n",
       "    .dataframe thead th {\n",
       "        text-align: right;\n",
       "    }\n",
       "</style>\n",
       "<table border=\"1\" class=\"dataframe\">\n",
       "  <thead>\n",
       "    <tr style=\"text-align: right;\">\n",
       "      <th></th>\n",
       "      <th>ZCTA5</th>\n",
       "      <th>age_group</th>\n",
       "      <th>prop_high_risk</th>\n",
       "      <th>revised_age_group</th>\n",
       "    </tr>\n",
       "  </thead>\n",
       "  <tbody>\n",
       "    <tr>\n",
       "      <th>129636</th>\n",
       "      <td>1086</td>\n",
       "      <td>15_17</td>\n",
       "      <td>0.117104</td>\n",
       "      <td>14-17</td>\n",
       "    </tr>\n",
       "    <tr>\n",
       "      <th>129637</th>\n",
       "      <td>4469</td>\n",
       "      <td>15_17</td>\n",
       "      <td>0.163973</td>\n",
       "      <td>14-17</td>\n",
       "    </tr>\n",
       "    <tr>\n",
       "      <th>129638</th>\n",
       "      <td>6269</td>\n",
       "      <td>15_17</td>\n",
       "      <td>0.148272</td>\n",
       "      <td>14-17</td>\n",
       "    </tr>\n",
       "    <tr>\n",
       "      <th>129639</th>\n",
       "      <td>8240</td>\n",
       "      <td>15_17</td>\n",
       "      <td>0.108229</td>\n",
       "      <td>14-17</td>\n",
       "    </tr>\n",
       "    <tr>\n",
       "      <th>129640</th>\n",
       "      <td>11549</td>\n",
       "      <td>15_17</td>\n",
       "      <td>0.100741</td>\n",
       "      <td>14-17</td>\n",
       "    </tr>\n",
       "  </tbody>\n",
       "</table>\n",
       "</div>"
      ],
      "text/plain": [
       "        ZCTA5 age_group  prop_high_risk revised_age_group\n",
       "129636   1086     15_17        0.117104             14-17\n",
       "129637   4469     15_17        0.163973             14-17\n",
       "129638   6269     15_17        0.148272             14-17\n",
       "129639   8240     15_17        0.108229             14-17\n",
       "129640  11549     15_17        0.100741             14-17"
      ]
     },
     "execution_count": 15,
     "metadata": {},
     "output_type": "execute_result"
    }
   ],
   "source": [
    "zcta_risk_split.head()"
   ]
  },
  {
   "cell_type": "code",
   "execution_count": 16,
   "metadata": {},
   "outputs": [],
   "source": [
    "us_pop_long_group_totals = pd.read_csv('/Users/kpierce/epimodels/notebooks/AustinGranularModel/DataIntegration/us_pop_by_pct_revised_age_group.csv')\n"
   ]
  },
  {
   "cell_type": "code",
   "execution_count": 17,
   "metadata": {},
   "outputs": [
    {
     "data": {
      "text/html": [
       "<div>\n",
       "<style scoped>\n",
       "    .dataframe tbody tr th:only-of-type {\n",
       "        vertical-align: middle;\n",
       "    }\n",
       "\n",
       "    .dataframe tbody tr th {\n",
       "        vertical-align: top;\n",
       "    }\n",
       "\n",
       "    .dataframe thead th {\n",
       "        text-align: right;\n",
       "    }\n",
       "</style>\n",
       "<table border=\"1\" class=\"dataframe\">\n",
       "  <thead>\n",
       "    <tr style=\"text-align: right;\">\n",
       "      <th></th>\n",
       "      <th>Unnamed: 0</th>\n",
       "      <th>age</th>\n",
       "      <th>census_age_group</th>\n",
       "      <th>revised_age_group</th>\n",
       "      <th>year</th>\n",
       "      <th>population</th>\n",
       "      <th>census_age_group_total</th>\n",
       "      <th>revised_age_group_total</th>\n",
       "      <th>age_pct_of_census_group</th>\n",
       "      <th>age_pct_of_revised_group</th>\n",
       "    </tr>\n",
       "  </thead>\n",
       "  <tbody>\n",
       "    <tr>\n",
       "      <th>0</th>\n",
       "      <td>0</td>\n",
       "      <td>0</td>\n",
       "      <td>00-04</td>\n",
       "      <td>00-04</td>\n",
       "      <td>2010</td>\n",
       "      <td>3951430</td>\n",
       "      <td>20188815</td>\n",
       "      <td>20188815</td>\n",
       "      <td>0.195724</td>\n",
       "      <td>0.195724</td>\n",
       "    </tr>\n",
       "    <tr>\n",
       "      <th>1</th>\n",
       "      <td>1</td>\n",
       "      <td>1</td>\n",
       "      <td>00-04</td>\n",
       "      <td>00-04</td>\n",
       "      <td>2010</td>\n",
       "      <td>3957730</td>\n",
       "      <td>20188815</td>\n",
       "      <td>20188815</td>\n",
       "      <td>0.196036</td>\n",
       "      <td>0.196036</td>\n",
       "    </tr>\n",
       "    <tr>\n",
       "      <th>2</th>\n",
       "      <td>2</td>\n",
       "      <td>2</td>\n",
       "      <td>00-04</td>\n",
       "      <td>00-04</td>\n",
       "      <td>2010</td>\n",
       "      <td>4090621</td>\n",
       "      <td>20188815</td>\n",
       "      <td>20188815</td>\n",
       "      <td>0.202618</td>\n",
       "      <td>0.202618</td>\n",
       "    </tr>\n",
       "    <tr>\n",
       "      <th>3</th>\n",
       "      <td>3</td>\n",
       "      <td>3</td>\n",
       "      <td>00-04</td>\n",
       "      <td>00-04</td>\n",
       "      <td>2010</td>\n",
       "      <td>4111688</td>\n",
       "      <td>20188815</td>\n",
       "      <td>20188815</td>\n",
       "      <td>0.203662</td>\n",
       "      <td>0.203662</td>\n",
       "    </tr>\n",
       "    <tr>\n",
       "      <th>4</th>\n",
       "      <td>4</td>\n",
       "      <td>4</td>\n",
       "      <td>00-04</td>\n",
       "      <td>00-04</td>\n",
       "      <td>2010</td>\n",
       "      <td>4077346</td>\n",
       "      <td>20188815</td>\n",
       "      <td>20188815</td>\n",
       "      <td>0.201961</td>\n",
       "      <td>0.201961</td>\n",
       "    </tr>\n",
       "  </tbody>\n",
       "</table>\n",
       "</div>"
      ],
      "text/plain": [
       "   Unnamed: 0  age census_age_group revised_age_group  year  population  \\\n",
       "0           0    0            00-04             00-04  2010     3951430   \n",
       "1           1    1            00-04             00-04  2010     3957730   \n",
       "2           2    2            00-04             00-04  2010     4090621   \n",
       "3           3    3            00-04             00-04  2010     4111688   \n",
       "4           4    4            00-04             00-04  2010     4077346   \n",
       "\n",
       "   census_age_group_total  revised_age_group_total  age_pct_of_census_group  \\\n",
       "0                20188815                 20188815                 0.195724   \n",
       "1                20188815                 20188815                 0.196036   \n",
       "2                20188815                 20188815                 0.202618   \n",
       "3                20188815                 20188815                 0.203662   \n",
       "4                20188815                 20188815                 0.201961   \n",
       "\n",
       "   age_pct_of_revised_group  \n",
       "0                  0.195724  \n",
       "1                  0.196036  \n",
       "2                  0.202618  \n",
       "3                  0.203662  \n",
       "4                  0.201961  "
      ]
     },
     "execution_count": 17,
     "metadata": {},
     "output_type": "execute_result"
    }
   ],
   "source": [
    "us_pop_long_group_totals.head()"
   ]
  },
  {
   "cell_type": "code",
   "execution_count": 18,
   "metadata": {},
   "outputs": [],
   "source": [
    "us_pop_long_group_totals = us_pop_long_group_totals[us_pop_long_group_totals['year'].isin(set([2018, 2019]))]"
   ]
  },
  {
   "cell_type": "code",
   "execution_count": 19,
   "metadata": {},
   "outputs": [],
   "source": [
    "zcta_risk = pd.merge(\n",
    "    zcta_risk_split.drop(columns=['age_group']),\n",
    "    us_pop_long_group_totals,\n",
    "    on='revised_age_group',\n",
    "    how='left'\n",
    ")"
   ]
  },
  {
   "cell_type": "code",
   "execution_count": 20,
   "metadata": {},
   "outputs": [
    {
     "data": {
      "text/html": [
       "<div>\n",
       "<style scoped>\n",
       "    .dataframe tbody tr th:only-of-type {\n",
       "        vertical-align: middle;\n",
       "    }\n",
       "\n",
       "    .dataframe tbody tr th {\n",
       "        vertical-align: top;\n",
       "    }\n",
       "\n",
       "    .dataframe thead th {\n",
       "        text-align: right;\n",
       "    }\n",
       "</style>\n",
       "<table border=\"1\" class=\"dataframe\">\n",
       "  <thead>\n",
       "    <tr style=\"text-align: right;\">\n",
       "      <th></th>\n",
       "      <th>ZCTA5</th>\n",
       "      <th>prop_high_risk</th>\n",
       "      <th>revised_age_group</th>\n",
       "      <th>Unnamed: 0</th>\n",
       "      <th>age</th>\n",
       "      <th>census_age_group</th>\n",
       "      <th>year</th>\n",
       "      <th>population</th>\n",
       "      <th>census_age_group_total</th>\n",
       "      <th>revised_age_group_total</th>\n",
       "      <th>age_pct_of_census_group</th>\n",
       "      <th>age_pct_of_revised_group</th>\n",
       "    </tr>\n",
       "  </thead>\n",
       "  <tbody>\n",
       "    <tr>\n",
       "      <th>0</th>\n",
       "      <td>1086</td>\n",
       "      <td>0.117104</td>\n",
       "      <td>14-17</td>\n",
       "      <td>822</td>\n",
       "      <td>14</td>\n",
       "      <td>10-14</td>\n",
       "      <td>2018</td>\n",
       "      <td>4164608</td>\n",
       "      <td>20868629</td>\n",
       "      <td>16663877</td>\n",
       "      <td>0.199563</td>\n",
       "      <td>0.249918</td>\n",
       "    </tr>\n",
       "    <tr>\n",
       "      <th>1</th>\n",
       "      <td>1086</td>\n",
       "      <td>0.117104</td>\n",
       "      <td>14-17</td>\n",
       "      <td>823</td>\n",
       "      <td>15</td>\n",
       "      <td>15-17</td>\n",
       "      <td>2018</td>\n",
       "      <td>4137711</td>\n",
       "      <td>12499269</td>\n",
       "      <td>16663877</td>\n",
       "      <td>0.331036</td>\n",
       "      <td>0.248304</td>\n",
       "    </tr>\n",
       "    <tr>\n",
       "      <th>2</th>\n",
       "      <td>1086</td>\n",
       "      <td>0.117104</td>\n",
       "      <td>14-17</td>\n",
       "      <td>824</td>\n",
       "      <td>16</td>\n",
       "      <td>15-17</td>\n",
       "      <td>2018</td>\n",
       "      <td>4125819</td>\n",
       "      <td>12499269</td>\n",
       "      <td>16663877</td>\n",
       "      <td>0.330085</td>\n",
       "      <td>0.247591</td>\n",
       "    </tr>\n",
       "    <tr>\n",
       "      <th>3</th>\n",
       "      <td>1086</td>\n",
       "      <td>0.117104</td>\n",
       "      <td>14-17</td>\n",
       "      <td>825</td>\n",
       "      <td>17</td>\n",
       "      <td>15-17</td>\n",
       "      <td>2018</td>\n",
       "      <td>4235739</td>\n",
       "      <td>12499269</td>\n",
       "      <td>16663877</td>\n",
       "      <td>0.338879</td>\n",
       "      <td>0.254187</td>\n",
       "    </tr>\n",
       "    <tr>\n",
       "      <th>4</th>\n",
       "      <td>1086</td>\n",
       "      <td>0.117104</td>\n",
       "      <td>14-17</td>\n",
       "      <td>923</td>\n",
       "      <td>14</td>\n",
       "      <td>10-14</td>\n",
       "      <td>2019</td>\n",
       "      <td>4164459</td>\n",
       "      <td>20798268</td>\n",
       "      <td>16632763</td>\n",
       "      <td>0.200231</td>\n",
       "      <td>0.250377</td>\n",
       "    </tr>\n",
       "  </tbody>\n",
       "</table>\n",
       "</div>"
      ],
      "text/plain": [
       "  ZCTA5  prop_high_risk revised_age_group  Unnamed: 0  age census_age_group  \\\n",
       "0  1086        0.117104             14-17         822   14            10-14   \n",
       "1  1086        0.117104             14-17         823   15            15-17   \n",
       "2  1086        0.117104             14-17         824   16            15-17   \n",
       "3  1086        0.117104             14-17         825   17            15-17   \n",
       "4  1086        0.117104             14-17         923   14            10-14   \n",
       "\n",
       "   year  population  census_age_group_total  revised_age_group_total  \\\n",
       "0  2018     4164608                20868629                 16663877   \n",
       "1  2018     4137711                12499269                 16663877   \n",
       "2  2018     4125819                12499269                 16663877   \n",
       "3  2018     4235739                12499269                 16663877   \n",
       "4  2019     4164459                20798268                 16632763   \n",
       "\n",
       "   age_pct_of_census_group  age_pct_of_revised_group  \n",
       "0                 0.199563                  0.249918  \n",
       "1                 0.331036                  0.248304  \n",
       "2                 0.330085                  0.247591  \n",
       "3                 0.338879                  0.254187  \n",
       "4                 0.200231                  0.250377  "
      ]
     },
     "execution_count": 20,
     "metadata": {},
     "output_type": "execute_result"
    }
   ],
   "source": [
    "zcta_risk.head()"
   ]
  },
  {
   "cell_type": "code",
   "execution_count": 27,
   "metadata": {},
   "outputs": [],
   "source": [
    "zcta_risk['adjusted_risk_age_numerator'] = zcta_risk['age_pct_of_revised_group'] * zcta_risk['prop_high_risk']\n",
    "zcta_risk_weighted = zcta_risk.groupby(\n",
    "    ['revised_age_group', 'ZCTA5', 'year']\n",
    ").sum(\n",
    "    ['adjusted_risk_age_numerator', 'age_pct_of_revised_group']\n",
    ").reset_index()"
   ]
  },
  {
   "cell_type": "code",
   "execution_count": 28,
   "metadata": {},
   "outputs": [],
   "source": [
    "zcta_risk_weighted['weighted_pct_high_risk'] = zcta_risk_weighted['adjusted_risk_age_numerator'] / zcta_risk_weighted['age_pct_of_revised_group']\n"
   ]
  },
  {
   "cell_type": "code",
   "execution_count": 29,
   "metadata": {},
   "outputs": [
    {
     "data": {
      "text/html": [
       "<div>\n",
       "<style scoped>\n",
       "    .dataframe tbody tr th:only-of-type {\n",
       "        vertical-align: middle;\n",
       "    }\n",
       "\n",
       "    .dataframe tbody tr th {\n",
       "        vertical-align: top;\n",
       "    }\n",
       "\n",
       "    .dataframe thead th {\n",
       "        text-align: right;\n",
       "    }\n",
       "</style>\n",
       "<table border=\"1\" class=\"dataframe\">\n",
       "  <thead>\n",
       "    <tr style=\"text-align: right;\">\n",
       "      <th></th>\n",
       "      <th>revised_age_group</th>\n",
       "      <th>ZCTA5</th>\n",
       "      <th>year</th>\n",
       "      <th>prop_high_risk</th>\n",
       "      <th>Unnamed: 0</th>\n",
       "      <th>age</th>\n",
       "      <th>population</th>\n",
       "      <th>census_age_group_total</th>\n",
       "      <th>revised_age_group_total</th>\n",
       "      <th>age_pct_of_census_group</th>\n",
       "      <th>age_pct_of_revised_group</th>\n",
       "      <th>adjusted_risk_age_numerator</th>\n",
       "      <th>weighted_pct_high_risk</th>\n",
       "    </tr>\n",
       "  </thead>\n",
       "  <tbody>\n",
       "    <tr>\n",
       "      <th>0</th>\n",
       "      <td>00-04</td>\n",
       "      <td>10001</td>\n",
       "      <td>2018</td>\n",
       "      <td>0.321354</td>\n",
       "      <td>8100</td>\n",
       "      <td>20</td>\n",
       "      <td>39525924</td>\n",
       "      <td>197629620</td>\n",
       "      <td>197629620</td>\n",
       "      <td>2.0</td>\n",
       "      <td>2.0</td>\n",
       "      <td>0.064271</td>\n",
       "      <td>0.032135</td>\n",
       "    </tr>\n",
       "    <tr>\n",
       "      <th>1</th>\n",
       "      <td>00-04</td>\n",
       "      <td>10001</td>\n",
       "      <td>2019</td>\n",
       "      <td>0.321354</td>\n",
       "      <td>9110</td>\n",
       "      <td>20</td>\n",
       "      <td>39153366</td>\n",
       "      <td>195766830</td>\n",
       "      <td>195766830</td>\n",
       "      <td>2.0</td>\n",
       "      <td>2.0</td>\n",
       "      <td>0.064271</td>\n",
       "      <td>0.032135</td>\n",
       "    </tr>\n",
       "    <tr>\n",
       "      <th>2</th>\n",
       "      <td>00-04</td>\n",
       "      <td>10002</td>\n",
       "      <td>2018</td>\n",
       "      <td>0.362698</td>\n",
       "      <td>8100</td>\n",
       "      <td>20</td>\n",
       "      <td>39525924</td>\n",
       "      <td>197629620</td>\n",
       "      <td>197629620</td>\n",
       "      <td>2.0</td>\n",
       "      <td>2.0</td>\n",
       "      <td>0.072540</td>\n",
       "      <td>0.036270</td>\n",
       "    </tr>\n",
       "    <tr>\n",
       "      <th>3</th>\n",
       "      <td>00-04</td>\n",
       "      <td>10002</td>\n",
       "      <td>2019</td>\n",
       "      <td>0.362698</td>\n",
       "      <td>9110</td>\n",
       "      <td>20</td>\n",
       "      <td>39153366</td>\n",
       "      <td>195766830</td>\n",
       "      <td>195766830</td>\n",
       "      <td>2.0</td>\n",
       "      <td>2.0</td>\n",
       "      <td>0.072540</td>\n",
       "      <td>0.036270</td>\n",
       "    </tr>\n",
       "    <tr>\n",
       "      <th>4</th>\n",
       "      <td>00-04</td>\n",
       "      <td>10003</td>\n",
       "      <td>2018</td>\n",
       "      <td>0.285648</td>\n",
       "      <td>8100</td>\n",
       "      <td>20</td>\n",
       "      <td>39525924</td>\n",
       "      <td>197629620</td>\n",
       "      <td>197629620</td>\n",
       "      <td>2.0</td>\n",
       "      <td>2.0</td>\n",
       "      <td>0.057130</td>\n",
       "      <td>0.028565</td>\n",
       "    </tr>\n",
       "  </tbody>\n",
       "</table>\n",
       "</div>"
      ],
      "text/plain": [
       "  revised_age_group  ZCTA5  year  prop_high_risk  Unnamed: 0  age  population  \\\n",
       "0             00-04  10001  2018        0.321354        8100   20    39525924   \n",
       "1             00-04  10001  2019        0.321354        9110   20    39153366   \n",
       "2             00-04  10002  2018        0.362698        8100   20    39525924   \n",
       "3             00-04  10002  2019        0.362698        9110   20    39153366   \n",
       "4             00-04  10003  2018        0.285648        8100   20    39525924   \n",
       "\n",
       "   census_age_group_total  revised_age_group_total  age_pct_of_census_group  \\\n",
       "0               197629620                197629620                      2.0   \n",
       "1               195766830                195766830                      2.0   \n",
       "2               197629620                197629620                      2.0   \n",
       "3               195766830                195766830                      2.0   \n",
       "4               197629620                197629620                      2.0   \n",
       "\n",
       "   age_pct_of_revised_group  adjusted_risk_age_numerator  \\\n",
       "0                       2.0                     0.064271   \n",
       "1                       2.0                     0.064271   \n",
       "2                       2.0                     0.072540   \n",
       "3                       2.0                     0.072540   \n",
       "4                       2.0                     0.057130   \n",
       "\n",
       "   weighted_pct_high_risk  \n",
       "0                0.032135  \n",
       "1                0.032135  \n",
       "2                0.036270  \n",
       "3                0.036270  \n",
       "4                0.028565  "
      ]
     },
     "execution_count": 29,
     "metadata": {},
     "output_type": "execute_result"
    }
   ],
   "source": [
    "zcta_risk_weighted.head()"
   ]
  },
  {
   "cell_type": "code",
   "execution_count": 30,
   "metadata": {},
   "outputs": [
    {
     "data": {
      "text/plain": [
       "0.889079677153696"
      ]
     },
     "execution_count": 30,
     "metadata": {},
     "output_type": "execute_result"
    }
   ],
   "source": [
    "max(zcta_age_risk_long['prop_high_risk'])"
   ]
  },
  {
   "cell_type": "code",
   "execution_count": 31,
   "metadata": {},
   "outputs": [
    {
     "data": {
      "text/plain": [
       "0.8890796771536961"
      ]
     },
     "execution_count": 31,
     "metadata": {},
     "output_type": "execute_result"
    }
   ],
   "source": [
    "max(zcta_risk_weighted['weighted_pct_high_risk'])"
   ]
  },
  {
   "cell_type": "code",
   "execution_count": 32,
   "metadata": {},
   "outputs": [
    {
     "data": {
      "text/plain": [
       "array(['00-04', '05-10', '11-13', '14-17', '18-49', '50-64', '65+'],\n",
       "      dtype=object)"
      ]
     },
     "execution_count": 32,
     "metadata": {},
     "output_type": "execute_result"
    }
   ],
   "source": [
    "zcta_risk_weighted['revised_age_group'].unique()"
   ]
  },
  {
   "cell_type": "code",
   "execution_count": 35,
   "metadata": {},
   "outputs": [],
   "source": [
    "zcta_risk_weighted[['revised_age_group', 'ZCTA5', 'weighted_pct_high_risk', 'year']].to_csv(\n",
    "    '/Users/kpierce/epimodels/notebooks/AustinGranularModel/DataIntegration/zcta_age_groups_risk_prop_2018_2019.csv'\n",
    ")"
   ]
  },
  {
   "cell_type": "markdown",
   "metadata": {},
   "source": [
    "### Travel data"
   ]
  },
  {
   "cell_type": "code",
   "execution_count": 28,
   "metadata": {},
   "outputs": [],
   "source": [
    "zcta_pop = pd.read_csv(\n",
    "    '/Users/kpierce/COVID19/SchoolCatchmentDemo/2019_TX_ZCTA_age_populations.csv',\n",
    "    dtype={'GEOID': str}\n",
    ")"
   ]
  },
  {
   "cell_type": "code",
   "execution_count": 29,
   "metadata": {},
   "outputs": [
    {
     "data": {
      "text/html": [
       "<div>\n",
       "<style scoped>\n",
       "    .dataframe tbody tr th:only-of-type {\n",
       "        vertical-align: middle;\n",
       "    }\n",
       "\n",
       "    .dataframe tbody tr th {\n",
       "        vertical-align: top;\n",
       "    }\n",
       "\n",
       "    .dataframe thead th {\n",
       "        text-align: right;\n",
       "    }\n",
       "</style>\n",
       "<table border=\"1\" class=\"dataframe\">\n",
       "  <thead>\n",
       "    <tr style=\"text-align: right;\">\n",
       "      <th></th>\n",
       "      <th>Unnamed: 0</th>\n",
       "      <th>GEOID</th>\n",
       "      <th>age</th>\n",
       "      <th>estimate</th>\n",
       "    </tr>\n",
       "  </thead>\n",
       "  <tbody>\n",
       "    <tr>\n",
       "      <th>0</th>\n",
       "      <td>1</td>\n",
       "      <td>75001</td>\n",
       "      <td>10 to 14 years</td>\n",
       "      <td>401</td>\n",
       "    </tr>\n",
       "    <tr>\n",
       "      <th>1</th>\n",
       "      <td>2</td>\n",
       "      <td>75001</td>\n",
       "      <td>15 to 17 years</td>\n",
       "      <td>277</td>\n",
       "    </tr>\n",
       "    <tr>\n",
       "      <th>2</th>\n",
       "      <td>3</td>\n",
       "      <td>75001</td>\n",
       "      <td>18 and 19 years</td>\n",
       "      <td>147</td>\n",
       "    </tr>\n",
       "    <tr>\n",
       "      <th>3</th>\n",
       "      <td>4</td>\n",
       "      <td>75001</td>\n",
       "      <td>20 years</td>\n",
       "      <td>180</td>\n",
       "    </tr>\n",
       "    <tr>\n",
       "      <th>4</th>\n",
       "      <td>5</td>\n",
       "      <td>75001</td>\n",
       "      <td>21 years</td>\n",
       "      <td>163</td>\n",
       "    </tr>\n",
       "  </tbody>\n",
       "</table>\n",
       "</div>"
      ],
      "text/plain": [
       "   Unnamed: 0  GEOID              age  estimate\n",
       "0           1  75001   10 to 14 years       401\n",
       "1           2  75001   15 to 17 years       277\n",
       "2           3  75001  18 and 19 years       147\n",
       "3           4  75001         20 years       180\n",
       "4           5  75001         21 years       163"
      ]
     },
     "execution_count": 29,
     "metadata": {},
     "output_type": "execute_result"
    }
   ],
   "source": [
    "zcta_pop.head()"
   ]
  },
  {
   "cell_type": "code",
   "execution_count": 30,
   "metadata": {},
   "outputs": [
    {
     "data": {
      "text/plain": [
       "array(['10 to 14 years', '15 to 17 years', '18 and 19 years', '20 years',\n",
       "       '21 years', '22 to 24 years', '25 to 29 years', '30 to 34 years',\n",
       "       '35 to 39 years', '40 to 44 years', '45 to 49 years',\n",
       "       '5 to 9 years', '50 to 54 years', '55 to 59 years',\n",
       "       '60 and 61 years', '62 to 64 years', '65 and 66 years',\n",
       "       '67 to 69 years', '70 to 74 years', '75 to 79 years',\n",
       "       '80 to 84 years', '85 years and over', 'Under 5 years'],\n",
       "      dtype=object)"
      ]
     },
     "execution_count": 30,
     "metadata": {},
     "output_type": "execute_result"
    }
   ],
   "source": [
    "zcta_pop['age'].unique()"
   ]
  },
  {
   "cell_type": "markdown",
   "metadata": {},
   "source": [
    "### Merge risk and population data\n",
    "\n",
    "Risk data and population data have different binning strategies; we need to map one binning strategy on to the other and merge the data sets."
   ]
  },
  {
   "cell_type": "code",
   "execution_count": 31,
   "metadata": {},
   "outputs": [],
   "source": [
    "pop_risk_map = {\n",
    "    '10 to 14 years': '10_14',\n",
    "    '15 to 17 years': '15_19',\n",
    "    '18 and 19 years': '15_19',\n",
    "    '20 years': '20_24',\n",
    "    '21 years': '20_24', \n",
    "    '22 to 24 years': '20_24', \n",
    "    '25 to 29 years': '25_29', \n",
    "    '30 to 34 years': '30_34',\n",
    "    '35 to 39 years': '35_39', \n",
    "    '40 to 44 years': '40_44', \n",
    "    '45 to 49 years': '45_49',\n",
    "    '5 to 9 years': '5_9', \n",
    "    '50 to 54 years': '50_54', \n",
    "    '55 to 59 years': '55_59',\n",
    "    '60 and 61 years': '60_64', \n",
    "    '62 to 64 years': '60_64', \n",
    "    '65 and 66 years': '65_69',\n",
    "    '67 to 69 years': '65_69', \n",
    "    '70 to 74 years': '70_74', \n",
    "    '75 to 79 years': '75+',\n",
    "    '80 to 84 years': '75+', \n",
    "    '85 years and over': '75+', \n",
    "    'Under 5 years': '0.5_4' # risk is zero for 0-0.5 years, so we can ignore that category\n",
    "    \n",
    "}"
   ]
  },
  {
   "cell_type": "code",
   "execution_count": 32,
   "metadata": {},
   "outputs": [],
   "source": [
    "zcta_pop['age_bin'] = [pop_risk_map[i] for i in zcta_pop['age']]"
   ]
  },
  {
   "cell_type": "code",
   "execution_count": 33,
   "metadata": {},
   "outputs": [
    {
     "data": {
      "text/html": [
       "<div>\n",
       "<style scoped>\n",
       "    .dataframe tbody tr th:only-of-type {\n",
       "        vertical-align: middle;\n",
       "    }\n",
       "\n",
       "    .dataframe tbody tr th {\n",
       "        vertical-align: top;\n",
       "    }\n",
       "\n",
       "    .dataframe thead th {\n",
       "        text-align: right;\n",
       "    }\n",
       "</style>\n",
       "<table border=\"1\" class=\"dataframe\">\n",
       "  <thead>\n",
       "    <tr style=\"text-align: right;\">\n",
       "      <th></th>\n",
       "      <th>Unnamed: 0</th>\n",
       "      <th>GEOID</th>\n",
       "      <th>age</th>\n",
       "      <th>estimate</th>\n",
       "      <th>age_bin</th>\n",
       "    </tr>\n",
       "  </thead>\n",
       "  <tbody>\n",
       "    <tr>\n",
       "      <th>0</th>\n",
       "      <td>1</td>\n",
       "      <td>75001</td>\n",
       "      <td>10 to 14 years</td>\n",
       "      <td>401</td>\n",
       "      <td>10_14</td>\n",
       "    </tr>\n",
       "    <tr>\n",
       "      <th>1</th>\n",
       "      <td>2</td>\n",
       "      <td>75001</td>\n",
       "      <td>15 to 17 years</td>\n",
       "      <td>277</td>\n",
       "      <td>15_19</td>\n",
       "    </tr>\n",
       "    <tr>\n",
       "      <th>2</th>\n",
       "      <td>3</td>\n",
       "      <td>75001</td>\n",
       "      <td>18 and 19 years</td>\n",
       "      <td>147</td>\n",
       "      <td>15_19</td>\n",
       "    </tr>\n",
       "    <tr>\n",
       "      <th>3</th>\n",
       "      <td>4</td>\n",
       "      <td>75001</td>\n",
       "      <td>20 years</td>\n",
       "      <td>180</td>\n",
       "      <td>20_24</td>\n",
       "    </tr>\n",
       "    <tr>\n",
       "      <th>4</th>\n",
       "      <td>5</td>\n",
       "      <td>75001</td>\n",
       "      <td>21 years</td>\n",
       "      <td>163</td>\n",
       "      <td>20_24</td>\n",
       "    </tr>\n",
       "  </tbody>\n",
       "</table>\n",
       "</div>"
      ],
      "text/plain": [
       "   Unnamed: 0  GEOID              age  estimate age_bin\n",
       "0           1  75001   10 to 14 years       401   10_14\n",
       "1           2  75001   15 to 17 years       277   15_19\n",
       "2           3  75001  18 and 19 years       147   15_19\n",
       "3           4  75001         20 years       180   20_24\n",
       "4           5  75001         21 years       163   20_24"
      ]
     },
     "execution_count": 33,
     "metadata": {},
     "output_type": "execute_result"
    }
   ],
   "source": [
    "zcta_pop.head()"
   ]
  },
  {
   "cell_type": "code",
   "execution_count": 34,
   "metadata": {},
   "outputs": [],
   "source": [
    "zcta_pop_total = zcta_pop.groupby(['GEOID', 'age_bin']).sum('estimate').reset_index().drop('Unnamed: 0', axis=1)"
   ]
  },
  {
   "cell_type": "code",
   "execution_count": 35,
   "metadata": {},
   "outputs": [
    {
     "data": {
      "text/html": [
       "<div>\n",
       "<style scoped>\n",
       "    .dataframe tbody tr th:only-of-type {\n",
       "        vertical-align: middle;\n",
       "    }\n",
       "\n",
       "    .dataframe tbody tr th {\n",
       "        vertical-align: top;\n",
       "    }\n",
       "\n",
       "    .dataframe thead th {\n",
       "        text-align: right;\n",
       "    }\n",
       "</style>\n",
       "<table border=\"1\" class=\"dataframe\">\n",
       "  <thead>\n",
       "    <tr style=\"text-align: right;\">\n",
       "      <th></th>\n",
       "      <th>GEOID</th>\n",
       "      <th>age_bin</th>\n",
       "      <th>estimate</th>\n",
       "    </tr>\n",
       "  </thead>\n",
       "  <tbody>\n",
       "    <tr>\n",
       "      <th>0</th>\n",
       "      <td>75001</td>\n",
       "      <td>0.5_4</td>\n",
       "      <td>794</td>\n",
       "    </tr>\n",
       "    <tr>\n",
       "      <th>1</th>\n",
       "      <td>75001</td>\n",
       "      <td>10_14</td>\n",
       "      <td>401</td>\n",
       "    </tr>\n",
       "    <tr>\n",
       "      <th>2</th>\n",
       "      <td>75001</td>\n",
       "      <td>15_19</td>\n",
       "      <td>424</td>\n",
       "    </tr>\n",
       "    <tr>\n",
       "      <th>3</th>\n",
       "      <td>75001</td>\n",
       "      <td>20_24</td>\n",
       "      <td>1276</td>\n",
       "    </tr>\n",
       "    <tr>\n",
       "      <th>4</th>\n",
       "      <td>75001</td>\n",
       "      <td>25_29</td>\n",
       "      <td>2859</td>\n",
       "    </tr>\n",
       "  </tbody>\n",
       "</table>\n",
       "</div>"
      ],
      "text/plain": [
       "   GEOID age_bin  estimate\n",
       "0  75001   0.5_4       794\n",
       "1  75001   10_14       401\n",
       "2  75001   15_19       424\n",
       "3  75001   20_24      1276\n",
       "4  75001   25_29      2859"
      ]
     },
     "execution_count": 35,
     "metadata": {},
     "output_type": "execute_result"
    }
   ],
   "source": [
    "zcta_pop_total.head()"
   ]
  },
  {
   "cell_type": "markdown",
   "metadata": {},
   "source": [
    "There should be 1,939 ZCTAs in Texas, so we're missing a couple:"
   ]
  },
  {
   "cell_type": "code",
   "execution_count": 50,
   "metadata": {},
   "outputs": [
    {
     "data": {
      "text/plain": [
       "1935"
      ]
     },
     "execution_count": 50,
     "metadata": {},
     "output_type": "execute_result"
    }
   ],
   "source": [
    "len(zcta_pop_total['GEOID'].unique())"
   ]
  },
  {
   "cell_type": "code",
   "execution_count": 36,
   "metadata": {},
   "outputs": [],
   "source": [
    "zcta_age_risk_texas = zcta_age_risk[zcta_age_risk['ZCTA5'].isin(set(zcta_pop_total['GEOID'].unique()))]"
   ]
  },
  {
   "cell_type": "code",
   "execution_count": 52,
   "metadata": {},
   "outputs": [
    {
     "data": {
      "text/plain": [
       "1896"
      ]
     },
     "execution_count": 52,
     "metadata": {},
     "output_type": "execute_result"
    }
   ],
   "source": [
    "len(zcta_age_risk_texas['ZCTA5'].unique())"
   ]
  },
  {
   "cell_type": "code",
   "execution_count": 37,
   "metadata": {},
   "outputs": [
    {
     "data": {
      "text/plain": [
       "(32409, 18)"
      ]
     },
     "execution_count": 37,
     "metadata": {},
     "output_type": "execute_result"
    }
   ],
   "source": [
    "zcta_age_risk.shape"
   ]
  },
  {
   "cell_type": "code",
   "execution_count": 38,
   "metadata": {},
   "outputs": [
    {
     "data": {
      "text/plain": [
       "(1896, 18)"
      ]
     },
     "execution_count": 38,
     "metadata": {},
     "output_type": "execute_result"
    }
   ],
   "source": [
    "zcta_age_risk_texas.shape"
   ]
  },
  {
   "cell_type": "code",
   "execution_count": 40,
   "metadata": {},
   "outputs": [],
   "source": [
    "zcta_age_risk_texas_long = pd.melt(zcta_age_risk_texas, id_vars='ZCTA5')"
   ]
  },
  {
   "cell_type": "code",
   "execution_count": 41,
   "metadata": {},
   "outputs": [
    {
     "data": {
      "text/html": [
       "<div>\n",
       "<style scoped>\n",
       "    .dataframe tbody tr th:only-of-type {\n",
       "        vertical-align: middle;\n",
       "    }\n",
       "\n",
       "    .dataframe tbody tr th {\n",
       "        vertical-align: top;\n",
       "    }\n",
       "\n",
       "    .dataframe thead th {\n",
       "        text-align: right;\n",
       "    }\n",
       "</style>\n",
       "<table border=\"1\" class=\"dataframe\">\n",
       "  <thead>\n",
       "    <tr style=\"text-align: right;\">\n",
       "      <th></th>\n",
       "      <th>ZCTA5</th>\n",
       "      <th>variable</th>\n",
       "      <th>value</th>\n",
       "    </tr>\n",
       "  </thead>\n",
       "  <tbody>\n",
       "    <tr>\n",
       "      <th>0</th>\n",
       "      <td>75962</td>\n",
       "      <td>0_0.5</td>\n",
       "      <td>0.0</td>\n",
       "    </tr>\n",
       "    <tr>\n",
       "      <th>1</th>\n",
       "      <td>76402</td>\n",
       "      <td>0_0.5</td>\n",
       "      <td>0.0</td>\n",
       "    </tr>\n",
       "    <tr>\n",
       "      <th>2</th>\n",
       "      <td>76798</td>\n",
       "      <td>0_0.5</td>\n",
       "      <td>0.0</td>\n",
       "    </tr>\n",
       "    <tr>\n",
       "      <th>3</th>\n",
       "      <td>76908</td>\n",
       "      <td>0_0.5</td>\n",
       "      <td>0.0</td>\n",
       "    </tr>\n",
       "    <tr>\n",
       "      <th>4</th>\n",
       "      <td>78712</td>\n",
       "      <td>0_0.5</td>\n",
       "      <td>0.0</td>\n",
       "    </tr>\n",
       "  </tbody>\n",
       "</table>\n",
       "</div>"
      ],
      "text/plain": [
       "   ZCTA5 variable  value\n",
       "0  75962    0_0.5    0.0\n",
       "1  76402    0_0.5    0.0\n",
       "2  76798    0_0.5    0.0\n",
       "3  76908    0_0.5    0.0\n",
       "4  78712    0_0.5    0.0"
      ]
     },
     "execution_count": 41,
     "metadata": {},
     "output_type": "execute_result"
    }
   ],
   "source": [
    "zcta_age_risk_texas_long.head()"
   ]
  },
  {
   "cell_type": "code",
   "execution_count": 43,
   "metadata": {},
   "outputs": [],
   "source": [
    "zcta_age_pct_risk = pd.merge(\n",
    "    zcta_age_risk_texas_long, \n",
    "    zcta_pop_total, left_on=['ZCTA5', 'variable'], \n",
    "    right_on=['GEOID', 'age_bin']\n",
    ")"
   ]
  },
  {
   "cell_type": "code",
   "execution_count": 55,
   "metadata": {},
   "outputs": [],
   "source": [
    "zcta_age_pct_risk = zcta_age_pct_risk.rename(\n",
    "    columns={\n",
    "        'value': 'pct_high_risk',\n",
    "        'estimate': 'total_population'\n",
    "    }\n",
    ")\n",
    "zcta_age_pct_risk = zcta_age_pct_risk.drop(['ZCTA5', 'variable'], axis=1)"
   ]
  },
  {
   "cell_type": "code",
   "execution_count": 56,
   "metadata": {},
   "outputs": [
    {
     "data": {
      "text/html": [
       "<div>\n",
       "<style scoped>\n",
       "    .dataframe tbody tr th:only-of-type {\n",
       "        vertical-align: middle;\n",
       "    }\n",
       "\n",
       "    .dataframe tbody tr th {\n",
       "        vertical-align: top;\n",
       "    }\n",
       "\n",
       "    .dataframe thead th {\n",
       "        text-align: right;\n",
       "    }\n",
       "</style>\n",
       "<table border=\"1\" class=\"dataframe\">\n",
       "  <thead>\n",
       "    <tr style=\"text-align: right;\">\n",
       "      <th></th>\n",
       "      <th>pct_high_risk</th>\n",
       "      <th>GEOID</th>\n",
       "      <th>age_bin</th>\n",
       "      <th>total_population</th>\n",
       "    </tr>\n",
       "  </thead>\n",
       "  <tbody>\n",
       "    <tr>\n",
       "      <th>0</th>\n",
       "      <td>0.108621</td>\n",
       "      <td>75962</td>\n",
       "      <td>0.5_4</td>\n",
       "      <td>0</td>\n",
       "    </tr>\n",
       "    <tr>\n",
       "      <th>1</th>\n",
       "      <td>0.090956</td>\n",
       "      <td>76402</td>\n",
       "      <td>0.5_4</td>\n",
       "      <td>0</td>\n",
       "    </tr>\n",
       "    <tr>\n",
       "      <th>2</th>\n",
       "      <td>0.103360</td>\n",
       "      <td>76798</td>\n",
       "      <td>0.5_4</td>\n",
       "      <td>0</td>\n",
       "    </tr>\n",
       "    <tr>\n",
       "      <th>3</th>\n",
       "      <td>0.079681</td>\n",
       "      <td>76908</td>\n",
       "      <td>0.5_4</td>\n",
       "      <td>0</td>\n",
       "    </tr>\n",
       "    <tr>\n",
       "      <th>4</th>\n",
       "      <td>0.086070</td>\n",
       "      <td>78712</td>\n",
       "      <td>0.5_4</td>\n",
       "      <td>0</td>\n",
       "    </tr>\n",
       "  </tbody>\n",
       "</table>\n",
       "</div>"
      ],
      "text/plain": [
       "   pct_high_risk  GEOID age_bin  total_population\n",
       "0       0.108621  75962   0.5_4                 0\n",
       "1       0.090956  76402   0.5_4                 0\n",
       "2       0.103360  76798   0.5_4                 0\n",
       "3       0.079681  76908   0.5_4                 0\n",
       "4       0.086070  78712   0.5_4                 0"
      ]
     },
     "execution_count": 56,
     "metadata": {},
     "output_type": "execute_result"
    }
   ],
   "source": [
    "zcta_age_pct_risk.head()"
   ]
  },
  {
   "cell_type": "code",
   "execution_count": 59,
   "metadata": {},
   "outputs": [],
   "source": [
    "zcta_age_pct_risk['high_risk_population'] = zcta_age_pct_risk['pct_high_risk'] * zcta_age_pct_risk['total_population']"
   ]
  },
  {
   "cell_type": "markdown",
   "metadata": {},
   "source": [
    "We next do a final widening of age bins. Past models have used five age bins; the current binning strategy for these data does not allow us to exactly match those bin widths, but we can get close."
   ]
  },
  {
   "cell_type": "code",
   "execution_count": 70,
   "metadata": {},
   "outputs": [],
   "source": [
    "# '0-4', '5-19', '20-49', '50-64', '65+' -- slightly different from usual age groups\n",
    "wide_age_bin_mapping = {\n",
    "    '10_14': '5-19',\n",
    "    '15_19': '5-19',\n",
    "    '20_24': '20-49', \n",
    "    '25_29': '20-49', \n",
    "    '30_34': '20-49',\n",
    "    '35_39': '20-49', \n",
    "    '40_44': '20-49', \n",
    "    '45_49': '20-49',\n",
    "    '5_9': '5-19', \n",
    "    '50_54': '50-64', \n",
    "    '55_59': '50-64',\n",
    "    '60_64': '50-64', \n",
    "    '65_69': '65+',\n",
    "    '70_74': '65+', \n",
    "    '75+': '65+',\n",
    "    '0.5_4': '0-4' # risk is zero for 0-0.5 years, so we can ignore that category   \n",
    "}"
   ]
  },
  {
   "cell_type": "code",
   "execution_count": 71,
   "metadata": {},
   "outputs": [],
   "source": [
    "zcta_age_pct_risk['wide_age_bin'] = [wide_age_bin_mapping[i] for i in zcta_age_pct_risk['age_bin']]"
   ]
  },
  {
   "cell_type": "code",
   "execution_count": 72,
   "metadata": {},
   "outputs": [],
   "source": [
    "zcta_wide_age_pct_risk = zcta_age_pct_risk.groupby(['GEOID', 'wide_age_bin']).sum(['total_population', 'high_risk_population']).reset_index().drop('pct_high_risk', axis=1)\n"
   ]
  },
  {
   "cell_type": "code",
   "execution_count": 73,
   "metadata": {},
   "outputs": [
    {
     "data": {
      "text/html": [
       "<div>\n",
       "<style scoped>\n",
       "    .dataframe tbody tr th:only-of-type {\n",
       "        vertical-align: middle;\n",
       "    }\n",
       "\n",
       "    .dataframe tbody tr th {\n",
       "        vertical-align: top;\n",
       "    }\n",
       "\n",
       "    .dataframe thead th {\n",
       "        text-align: right;\n",
       "    }\n",
       "</style>\n",
       "<table border=\"1\" class=\"dataframe\">\n",
       "  <thead>\n",
       "    <tr style=\"text-align: right;\">\n",
       "      <th></th>\n",
       "      <th>GEOID</th>\n",
       "      <th>wide_age_bin</th>\n",
       "      <th>total_population</th>\n",
       "      <th>high_risk_population</th>\n",
       "    </tr>\n",
       "  </thead>\n",
       "  <tbody>\n",
       "    <tr>\n",
       "      <th>0</th>\n",
       "      <td>75001</td>\n",
       "      <td>0-4</td>\n",
       "      <td>794</td>\n",
       "      <td>87.140716</td>\n",
       "    </tr>\n",
       "    <tr>\n",
       "      <th>1</th>\n",
       "      <td>75001</td>\n",
       "      <td>20-49</td>\n",
       "      <td>9273</td>\n",
       "      <td>2546.867010</td>\n",
       "    </tr>\n",
       "    <tr>\n",
       "      <th>2</th>\n",
       "      <td>75001</td>\n",
       "      <td>5-19</td>\n",
       "      <td>1551</td>\n",
       "      <td>282.514614</td>\n",
       "    </tr>\n",
       "    <tr>\n",
       "      <th>3</th>\n",
       "      <td>75001</td>\n",
       "      <td>50-64</td>\n",
       "      <td>2259</td>\n",
       "      <td>848.093682</td>\n",
       "    </tr>\n",
       "    <tr>\n",
       "      <th>4</th>\n",
       "      <td>75001</td>\n",
       "      <td>65+</td>\n",
       "      <td>1115</td>\n",
       "      <td>574.459288</td>\n",
       "    </tr>\n",
       "  </tbody>\n",
       "</table>\n",
       "</div>"
      ],
      "text/plain": [
       "   GEOID wide_age_bin  total_population  high_risk_population\n",
       "0  75001          0-4               794             87.140716\n",
       "1  75001        20-49              9273           2546.867010\n",
       "2  75001         5-19              1551            282.514614\n",
       "3  75001        50-64              2259            848.093682\n",
       "4  75001          65+              1115            574.459288"
      ]
     },
     "execution_count": 73,
     "metadata": {},
     "output_type": "execute_result"
    }
   ],
   "source": [
    "zcta_wide_age_pct_risk.head()"
   ]
  },
  {
   "cell_type": "markdown",
   "metadata": {},
   "source": [
    "Simple arithmetic to get the final dataset, then save:"
   ]
  },
  {
   "cell_type": "code",
   "execution_count": 74,
   "metadata": {},
   "outputs": [],
   "source": [
    "zcta_wide_age_pct_risk['pct_high_risk'] = zcta_wide_age_pct_risk['high_risk_population']/zcta_wide_age_pct_risk['total_population']"
   ]
  },
  {
   "cell_type": "code",
   "execution_count": 77,
   "metadata": {},
   "outputs": [],
   "source": [
    "zcta_wide_age_pct_risk['low_risk_population'] = zcta_wide_age_pct_risk['total_population'] - zcta_wide_age_pct_risk['high_risk_population']"
   ]
  },
  {
   "cell_type": "code",
   "execution_count": 78,
   "metadata": {},
   "outputs": [
    {
     "data": {
      "text/html": [
       "<div>\n",
       "<style scoped>\n",
       "    .dataframe tbody tr th:only-of-type {\n",
       "        vertical-align: middle;\n",
       "    }\n",
       "\n",
       "    .dataframe tbody tr th {\n",
       "        vertical-align: top;\n",
       "    }\n",
       "\n",
       "    .dataframe thead th {\n",
       "        text-align: right;\n",
       "    }\n",
       "</style>\n",
       "<table border=\"1\" class=\"dataframe\">\n",
       "  <thead>\n",
       "    <tr style=\"text-align: right;\">\n",
       "      <th></th>\n",
       "      <th>GEOID</th>\n",
       "      <th>wide_age_bin</th>\n",
       "      <th>total_population</th>\n",
       "      <th>high_risk_population</th>\n",
       "      <th>pct_high_risk</th>\n",
       "      <th>low_risk_population</th>\n",
       "    </tr>\n",
       "  </thead>\n",
       "  <tbody>\n",
       "    <tr>\n",
       "      <th>0</th>\n",
       "      <td>75001</td>\n",
       "      <td>0-4</td>\n",
       "      <td>794</td>\n",
       "      <td>87.140716</td>\n",
       "      <td>0.109749</td>\n",
       "      <td>706.859284</td>\n",
       "    </tr>\n",
       "    <tr>\n",
       "      <th>1</th>\n",
       "      <td>75001</td>\n",
       "      <td>20-49</td>\n",
       "      <td>9273</td>\n",
       "      <td>2546.867010</td>\n",
       "      <td>0.274654</td>\n",
       "      <td>6726.132990</td>\n",
       "    </tr>\n",
       "    <tr>\n",
       "      <th>2</th>\n",
       "      <td>75001</td>\n",
       "      <td>5-19</td>\n",
       "      <td>1551</td>\n",
       "      <td>282.514614</td>\n",
       "      <td>0.182150</td>\n",
       "      <td>1268.485386</td>\n",
       "    </tr>\n",
       "    <tr>\n",
       "      <th>3</th>\n",
       "      <td>75001</td>\n",
       "      <td>50-64</td>\n",
       "      <td>2259</td>\n",
       "      <td>848.093682</td>\n",
       "      <td>0.375429</td>\n",
       "      <td>1410.906318</td>\n",
       "    </tr>\n",
       "    <tr>\n",
       "      <th>4</th>\n",
       "      <td>75001</td>\n",
       "      <td>65+</td>\n",
       "      <td>1115</td>\n",
       "      <td>574.459288</td>\n",
       "      <td>0.515210</td>\n",
       "      <td>540.540712</td>\n",
       "    </tr>\n",
       "  </tbody>\n",
       "</table>\n",
       "</div>"
      ],
      "text/plain": [
       "   GEOID wide_age_bin  total_population  high_risk_population  pct_high_risk  \\\n",
       "0  75001          0-4               794             87.140716       0.109749   \n",
       "1  75001        20-49              9273           2546.867010       0.274654   \n",
       "2  75001         5-19              1551            282.514614       0.182150   \n",
       "3  75001        50-64              2259            848.093682       0.375429   \n",
       "4  75001          65+              1115            574.459288       0.515210   \n",
       "\n",
       "   low_risk_population  \n",
       "0           706.859284  \n",
       "1          6726.132990  \n",
       "2          1268.485386  \n",
       "3          1410.906318  \n",
       "4           540.540712  "
      ]
     },
     "execution_count": 78,
     "metadata": {},
     "output_type": "execute_result"
    }
   ],
   "source": [
    "zcta_wide_age_pct_risk.head()"
   ]
  },
  {
   "cell_type": "code",
   "execution_count": 79,
   "metadata": {},
   "outputs": [
    {
     "data": {
      "text/plain": [
       "array(['0-4', '20-49', '5-19', '50-64', '65+'], dtype=object)"
      ]
     },
     "execution_count": 79,
     "metadata": {},
     "output_type": "execute_result"
    }
   ],
   "source": [
    "zcta_wide_age_pct_risk['wide_age_bin'].unique()"
   ]
  },
  {
   "cell_type": "code",
   "execution_count": 80,
   "metadata": {},
   "outputs": [],
   "source": [
    "zcta_wide_age_pct_risk.to_csv('/Users/kpierce/epimodels/sandbox-scripts/tx_zcta_high_risk.csv')"
   ]
  },
  {
   "cell_type": "code",
   "execution_count": null,
   "metadata": {},
   "outputs": [],
   "source": []
  }
 ],
 "metadata": {
  "kernelspec": {
   "display_name": "epi-venv",
   "language": "python",
   "name": "epi-venv"
  },
  "language_info": {
   "codemirror_mode": {
    "name": "ipython",
    "version": 3
   },
   "file_extension": ".py",
   "mimetype": "text/x-python",
   "name": "python",
   "nbconvert_exporter": "python",
   "pygments_lexer": "ipython3",
   "version": "3.9.7"
  }
 },
 "nbformat": 4,
 "nbformat_minor": 4
}
